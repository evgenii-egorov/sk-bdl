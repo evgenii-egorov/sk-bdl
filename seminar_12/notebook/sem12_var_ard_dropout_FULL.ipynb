{
 "cells": [
  {
   "cell_type": "code",
   "execution_count": null,
   "metadata": {
    "id": "0XXAwPNlrUKE"
   },
   "outputs": [],
   "source": [
    "import torch\n",
    "import numpy as np\n",
    "\n",
    "import torch.nn as nn\n",
    "import torch.optim as optim\n",
    "import torch.nn.functional as F\n",
    "\n",
    "from torch.nn import Parameter\n",
    "from torchvision import datasets, transforms"
   ]
  },
  {
   "cell_type": "markdown",
   "metadata": {
    "id": "KoT98Uq0r47W"
   },
   "source": [
    "In this seminar we will implement **Variational Dropout**\n",
    "\n",
    "Author: [Evgenii Egorov](mailto:egorov.evgenyy@ya.ru)\n",
    "\n",
    "\n",
    "#### Reference:\n",
    "[1] [Variational Dropout and the Local Reparameterization Trick](https://arxiv.org/pdf/1506.02557.pdf), Kingma et. al., 2015\\\n",
    "[2] [Variational Dropout Sparsifies Deep Neural Networks](https://arxiv.org/pdf/1701.05369.pdf), Molchanov et. al., 2017\\\n",
    "[3] Deep Bayes School http://deepbayes.ru\n",
    "\n",
    "\n",
    "## Task 1. \n",
    "Implement Linear Stohastic Layer\n",
    "$$\n",
    "f(x) = Wx + b, \\\\\n",
    "w_{ij} \\sim \\mathcal{N}(w_{ij}|\\mu_{ij}, \\alpha_{ij} \\mu_{ij}^2).\n",
    "$$\n",
    "\n",
    "$$\n",
    "\\text{KL}(q(w)\\|p(w)) \\approx \\sum_{i, j} \\log (1 + \\alpha_{ij}^{-1}).\n",
    "$$"
   ]
  },
  {
   "cell_type": "code",
   "execution_count": null,
   "metadata": {
    "id": "GbamGUwfrUKL"
   },
   "outputs": [],
   "source": [
    "class LinearStoch(nn.Module):\n",
    "    def __init__(self, in_f, out_f, bias=True):\n",
    "        super(LinearStoch, self).__init__()\n",
    "        self.in_f = in_f\n",
    "        self.out_f = out_f\n",
    "        \n",
    "        self.W = Parameter(torch.Tensor(out_f, in_f)) # Mean\n",
    "        self.log_std = Parameter(torch.Tensor(out_f, in_f)) # Log sigma\n",
    "        self.bias = Parameter(torch.Tensor(1, out_f))\n",
    "        \n",
    "        self.init_w()\n",
    "        \n",
    "    def init_w(self):\n",
    "        self.bias.data.zero_()\n",
    "        self.W.data.normal_(0, 0.01)\n",
    "        self.log_std.data.fill_(-3)        \n",
    "        \n",
    "    def log_alpha(self):\n",
    "        \"\"\"\n",
    "        Calculate log_alpha and mask for the weight matrix\n",
    "        \"\"\"\n",
    "        # YOUR CODE HERE\n",
    "        log_alpha = -2*(torch.log(torch.abs(self.W)) - self.log_std)\n",
    "        mask = (log_alpha < 3).float()\n",
    "        return log_alpha, mask\n",
    "        # END CODE\n",
    "    \n",
    "    def forward(self, x, training=True):\n",
    "        # YOUR CODE HERE\n",
    "        if training:\n",
    "            a_m = F.linear(x, self.W) + self.bias\n",
    "            a_std = torch.sqrt(F.linear(x * x, torch.exp(self.log_std * 2.)) + 1e-9)\n",
    "            return a_m + a_std * torch.randn_like(a_std)\n",
    "        log_alpha, mask = self.log_alpha()\n",
    "        return F.linear(x, self.W * mask) + self.bias\n",
    "        # END CODE\n",
    "    \n",
    "    def kl_reg(self):\n",
    "        # YOUR CODE HERE\n",
    "        log_alpha, mask = self.log_alpha()\n",
    "        return torch.sum(torch.log(1.+torch.exp(-log_alpha)))\n",
    "        # END CODE"
   ]
  },
  {
   "cell_type": "code",
   "execution_count": null,
   "metadata": {
    "id": "d4rRmH8_rUKO"
   },
   "outputs": [],
   "source": [
    "class Net(nn.Module):\n",
    "    def __init__(self):\n",
    "        super(Net, self).__init__()\n",
    "        self.fc1 = LinearStoch(28*28, 300)\n",
    "        self.fc2 = LinearStoch(300,  100)\n",
    "        self.fc3 = LinearStoch(100,  10)\n",
    "       \n",
    "    def forward(self, x):\n",
    "        x = F.relu(self.fc1(x))\n",
    "        x = F.relu(self.fc2(x))\n",
    "        x = F.log_softmax(self.fc3(x), dim=1)\n",
    "        return x"
   ]
  },
  {
   "cell_type": "code",
   "execution_count": null,
   "metadata": {
    "id": "2dbLKlMvrUKS"
   },
   "outputs": [],
   "source": [
    "def get_mnist(batch_size):\n",
    "    trsnform = transforms.Compose([transforms.ToTensor(), transforms.Normalize((0.1307,), (0.3081,))])\n",
    "    train_loader = torch.utils.data.DataLoader(\n",
    "        datasets.MNIST('./data', train=True, download=True,\n",
    "        transform=trsnform), batch_size=batch_size, shuffle=True, num_workers=4)\n",
    "    test_loader = torch.utils.data.DataLoader(\n",
    "        datasets.MNIST('./data', train=False, download=True,\n",
    "        transform=trsnform), batch_size=batch_size, shuffle=True, num_workers=4)\n",
    "    return train_loader, test_loader"
   ]
  },
  {
   "cell_type": "markdown",
   "metadata": {
    "id": "G2icbDNPtMNM"
   },
   "source": [
    "## Task 2. \n",
    "Implement Loss function\n",
    "\n"
   ]
  },
  {
   "cell_type": "code",
   "execution_count": null,
   "metadata": {
    "id": "2UlO8oPrrUKW"
   },
   "outputs": [],
   "source": [
    "class SGVLB(nn.Module):\n",
    "    def __init__(self, net, train_size):\n",
    "        super(SGVLB, self).__init__()\n",
    "        self.train_size = train_size\n",
    "        self.net = net\n",
    "\n",
    "    def forward(self, input, target, kl_weight=1.0):\n",
    "        # YOUR CODE HERE\n",
    "        kl = 0.0\n",
    "        for module in self.net.children():\n",
    "            if hasattr(module, 'kl_reg'):\n",
    "                kl = kl + module.kl_reg()\n",
    "        return F.nll_loss(input, target) * self.train_size + kl_weight * kl\n",
    "        # END CODE"
   ]
  },
  {
   "cell_type": "code",
   "execution_count": null,
   "metadata": {
    "colab": {
     "base_uri": "https://localhost:8080/",
     "height": 392,
     "referenced_widgets": [
      "1ec0bbf4a73841d09e79aabbe2bc7f39",
      "eb2613a60cca45619487e75a747cd3c2",
      "c0d5c46ce76e45ecb68b86b8ba8bb65c",
      "7c54e500c9b44ee5a757ad1f855f58bf",
      "0fa42bb4c2b345ca94cc949a4ba42481",
      "2782004a134e45d08c9445ba90af515d",
      "c3141329bf5c451a9d5721f50b8f9d8e",
      "45f9cb80f7ef4058a1750e050410600b",
      "a434be86af5a4a97ac27ba315732f8fe",
      "540d88ab04dc4e049f707dc8a6b01832",
      "bef5c0d5252849569f25e9cb57516ccc",
      "270967fa5014443c8f545b19a3a81b89",
      "ad842e7314a445e19f761a0f451570b2",
      "cc9ecf0134ae4eca9f93255e8a4a4c4e",
      "0f569fabb0564643aa9c48d68be1ae9a",
      "879cd22bfc7d4eddb909d319a06e08ca",
      "db25084d7e3a48fcb85504662b441ab8",
      "8722c649a91542b88480fc8c1eff0240",
      "37bb0ec7e241442d83babe28e52e636b",
      "e7548fdb380e4ee18ac2fbcc9ac615db",
      "9fd159a7d479413ab44dddcbb90ec778",
      "67de344d6a264ff59a0d15b9220bea4f",
      "aa7c31589e7f476fb0b464e433b8d55f",
      "f27a7023fc3f4f918cefa566473f0bf1",
      "2cf840f4b0d44d74a1a80776e666cc8a",
      "298aa930c6234eae8c78ba54919b130a",
      "a76140c5b67c4315b37efb6eed0265b3",
      "3dec84b023bf4285bc33762f866f6c83",
      "6515abc2fcbb4e49b9a0d187cd784d8f",
      "df830a9f54af4f18b47d71335b389f9c",
      "d3072b89e1044bb4b79ceb9b0949d2d2",
      "6efaf03e546d4bbdaca323a1070b352c"
     ]
    },
    "executionInfo": {
     "elapsed": 13259,
     "status": "ok",
     "timestamp": 1601037454231,
     "user": {
      "displayName": "Евгений Егоров",
      "photoUrl": "https://lh3.googleusercontent.com/a-/AOh14GjjsFtadlJDhkK3KIjg0MoJDzyVFLbYU3bgiJhdXw=s64",
      "userId": "14337848831696792843"
     },
     "user_tz": -120
    },
    "id": "nfC6A-GqrUKb",
    "outputId": "22ca2138-fedb-471f-ca91-5a5907e049f0"
   },
   "outputs": [
    {
     "name": "stdout",
     "output_type": "stream",
     "text": [
      "Downloading http://yann.lecun.com/exdb/mnist/train-images-idx3-ubyte.gz to ./data/MNIST/raw/train-images-idx3-ubyte.gz\n"
     ]
    },
    {
     "data": {
      "application/vnd.jupyter.widget-view+json": {
       "model_id": "1ec0bbf4a73841d09e79aabbe2bc7f39",
       "version_major": 2,
       "version_minor": 0
      },
      "text/plain": [
       "HBox(children=(FloatProgress(value=1.0, bar_style='info', max=1.0), HTML(value='')))"
      ]
     },
     "metadata": {
      "tags": []
     },
     "output_type": "display_data"
    },
    {
     "name": "stdout",
     "output_type": "stream",
     "text": [
      "Extracting ./data/MNIST/raw/train-images-idx3-ubyte.gz to ./data/MNIST/raw\n",
      "Downloading http://yann.lecun.com/exdb/mnist/train-labels-idx1-ubyte.gz to ./data/MNIST/raw/train-labels-idx1-ubyte.gz\n"
     ]
    },
    {
     "data": {
      "application/vnd.jupyter.widget-view+json": {
       "model_id": "a434be86af5a4a97ac27ba315732f8fe",
       "version_major": 2,
       "version_minor": 0
      },
      "text/plain": [
       "HBox(children=(FloatProgress(value=1.0, bar_style='info', max=1.0), HTML(value='')))"
      ]
     },
     "metadata": {
      "tags": []
     },
     "output_type": "display_data"
    },
    {
     "name": "stdout",
     "output_type": "stream",
     "text": [
      "Extracting ./data/MNIST/raw/train-labels-idx1-ubyte.gz to ./data/MNIST/raw\n",
      "Downloading http://yann.lecun.com/exdb/mnist/t10k-images-idx3-ubyte.gz to ./data/MNIST/raw/t10k-images-idx3-ubyte.gz\n"
     ]
    },
    {
     "data": {
      "application/vnd.jupyter.widget-view+json": {
       "model_id": "db25084d7e3a48fcb85504662b441ab8",
       "version_major": 2,
       "version_minor": 0
      },
      "text/plain": [
       "HBox(children=(FloatProgress(value=1.0, bar_style='info', max=1.0), HTML(value='')))"
      ]
     },
     "metadata": {
      "tags": []
     },
     "output_type": "display_data"
    },
    {
     "name": "stdout",
     "output_type": "stream",
     "text": [
      "Extracting ./data/MNIST/raw/t10k-images-idx3-ubyte.gz to ./data/MNIST/raw\n",
      "Downloading http://yann.lecun.com/exdb/mnist/t10k-labels-idx1-ubyte.gz to ./data/MNIST/raw/t10k-labels-idx1-ubyte.gz\n",
      "\n",
      "\n"
     ]
    },
    {
     "data": {
      "application/vnd.jupyter.widget-view+json": {
       "model_id": "2cf840f4b0d44d74a1a80776e666cc8a",
       "version_major": 2,
       "version_minor": 0
      },
      "text/plain": [
       "HBox(children=(FloatProgress(value=1.0, bar_style='info', max=1.0), HTML(value='')))"
      ]
     },
     "metadata": {
      "tags": []
     },
     "output_type": "display_data"
    },
    {
     "name": "stdout",
     "output_type": "stream",
     "text": [
      "Extracting ./data/MNIST/raw/t10k-labels-idx1-ubyte.gz to ./data/MNIST/raw\n",
      "Processing...\n",
      "Done!\n"
     ]
    },
    {
     "name": "stderr",
     "output_type": "stream",
     "text": [
      "/usr/local/lib/python3.6/dist-packages/torchvision/datasets/mnist.py:469: UserWarning: The given NumPy array is not writeable, and PyTorch does not support non-writeable tensors. This means you can write to the underlying (supposedly non-writeable) NumPy array using the tensor. You may want to copy the array to protect its data or make it writeable before converting it to a tensor. This type of warning will be suppressed for the rest of this program. (Triggered internally at  /pytorch/torch/csrc/utils/tensor_numpy.cpp:141.)\n",
      "  return torch.from_numpy(parsed.astype(m[2], copy=False)).view(*s)\n"
     ]
    }
   ],
   "source": [
    "model = Net().cuda()\n",
    "optimizer = optim.Adam(model.parameters(), lr=1e-3)\n",
    "scheduler = torch.optim.lr_scheduler.MultiStepLR(optimizer, milestones=[50,60,70,80], gamma=0.2)\n",
    "\n",
    "train_loader, test_loader = get_mnist(batch_size=100)\n",
    "sgvlb = SGVLB(model, len(train_loader.dataset)).cuda()"
   ]
  },
  {
   "cell_type": "code",
   "execution_count": null,
   "metadata": {
    "id": "omqiyDzyrUKh"
   },
   "outputs": [],
   "source": [
    "def make_validation():\n",
    "    model.eval()\n",
    "    test_loss, test_acc = 0., 0.\n",
    "    for batch_idx, (data, target) in enumerate(test_loader):\n",
    "        data = data.cuda()\n",
    "        target = target.cuda()\n",
    "        data = data.view(-1, 28*28)\n",
    "        output = model(data)\n",
    "        test_loss += float(sgvlb(output, target, kl_weight))\n",
    "        pred = output.data.max(1)[1] \n",
    "        test_acc += np.sum(pred.cpu().numpy() == target.cpu().data.numpy())\n",
    "    return np.round(test_loss / len(test_loader.dataset),3), np.round(test_acc / len(test_loader.dataset), 2)"
   ]
  },
  {
   "cell_type": "markdown",
   "metadata": {
    "id": "WNJAvUR-yPkj"
   },
   "source": [
    "## Task 3.\n",
    "Train the model"
   ]
  },
  {
   "cell_type": "code",
   "execution_count": null,
   "metadata": {
    "colab": {
     "base_uri": "https://localhost:8080/",
     "height": 1000
    },
    "executionInfo": {
     "elapsed": 1294951,
     "status": "ok",
     "timestamp": 1601038768565,
     "user": {
      "displayName": "Евгений Егоров",
      "photoUrl": "https://lh3.googleusercontent.com/a-/AOh14GjjsFtadlJDhkK3KIjg0MoJDzyVFLbYU3bgiJhdXw=s64",
      "userId": "14337848831696792843"
     },
     "user_tz": -120
    },
    "id": "cKQqViiFrUKk",
    "outputId": "d29a9c9b-d06c-4578-b87e-384129a4c6b8"
   },
   "outputs": [
    {
     "name": "stdout",
     "output_type": "stream",
     "text": [
      "acc: test 0.95 train 0.84 \t \t loss train 310.872 test 130.414\n",
      "acc: test 0.96 train 0.96 \t \t loss train 123.749 test 109.813\n",
      "acc: test 0.96 train 0.97 \t \t loss train 110.445 test 113.291\n",
      "acc: test 0.97 train 0.97 \t \t loss train 107.412 test 111.908\n",
      "acc: test 0.97 train 0.97 \t \t loss train 106.184 test 107.565\n",
      "acc: test 0.97 train 0.97 \t \t loss train 104.289 test 111.488\n",
      "acc: test 0.97 train 0.97 \t \t loss train 105.306 test 113.725\n",
      "acc: test 0.97 train 0.98 \t \t loss train 103.403 test 120.521\n",
      "acc: test 0.97 train 0.98 \t \t loss train 106.37 test 114.672\n",
      "acc: test 0.97 train 0.98 \t \t loss train 105.388 test 112.878\n",
      "acc: test 0.97 train 0.98 \t \t loss train 104.893 test 113.518\n",
      "acc: test 0.97 train 0.98 \t \t loss train 103.607 test 111.252\n",
      "acc: test 0.97 train 0.98 \t \t loss train 105.028 test 121.544\n",
      "acc: test 0.97 train 0.98 \t \t loss train 104.929 test 119.431\n",
      "acc: test 0.97 train 0.98 \t \t loss train 104.567 test 123.194\n",
      "acc: test 0.97 train 0.98 \t \t loss train 106.103 test 124.403\n",
      "acc: test 0.97 train 0.98 \t \t loss train 104.802 test 113.961\n",
      "acc: test 0.97 train 0.98 \t \t loss train 104.77 test 118.133\n",
      "acc: test 0.97 train 0.98 \t \t loss train 106.763 test 116.019\n",
      "acc: test 0.97 train 0.98 \t \t loss train 107.673 test 120.149\n",
      "acc: test 0.97 train 0.98 \t \t loss train 106.606 test 119.053\n",
      "acc: test 0.97 train 0.98 \t \t loss train 107.517 test 120.755\n",
      "acc: test 0.97 train 0.98 \t \t loss train 108.576 test 121.114\n",
      "acc: test 0.97 train 0.98 \t \t loss train 109.214 test 123.161\n",
      "acc: test 0.98 train 0.98 \t \t loss train 108.992 test 115.354\n",
      "acc: test 0.97 train 0.98 \t \t loss train 108.771 test 120.838\n",
      "acc: test 0.97 train 0.98 \t \t loss train 109.607 test 119.704\n",
      "acc: test 0.98 train 0.98 \t \t loss train 111.192 test 119.052\n",
      "acc: test 0.97 train 0.98 \t \t loss train 109.784 test 121.704\n",
      "acc: test 0.97 train 0.98 \t \t loss train 110.01 test 126.122\n",
      "acc: test 0.97 train 0.98 \t \t loss train 111.195 test 121.699\n",
      "acc: test 0.97 train 0.98 \t \t loss train 110.974 test 122.812\n",
      "acc: test 0.97 train 0.98 \t \t loss train 112.585 test 120.72\n",
      "acc: test 0.97 train 0.98 \t \t loss train 110.115 test 121.619\n",
      "acc: test 0.97 train 0.98 \t \t loss train 111.709 test 119.87\n",
      "acc: test 0.97 train 0.98 \t \t loss train 112.042 test 126.222\n",
      "acc: test 0.97 train 0.98 \t \t loss train 112.386 test 122.679\n",
      "acc: test 0.97 train 0.98 \t \t loss train 111.954 test 126.428\n",
      "acc: test 0.97 train 0.98 \t \t loss train 112.625 test 126.206\n",
      "acc: test 0.97 train 0.98 \t \t loss train 114.179 test 130.056\n",
      "acc: test 0.97 train 0.98 \t \t loss train 114.327 test 124.302\n",
      "acc: test 0.97 train 0.98 \t \t loss train 114.628 test 123.36\n",
      "acc: test 0.97 train 0.98 \t \t loss train 114.651 test 121.53\n",
      "acc: test 0.97 train 0.98 \t \t loss train 114.223 test 126.339\n",
      "acc: test 0.97 train 0.98 \t \t loss train 113.878 test 130.127\n",
      "acc: test 0.97 train 0.98 \t \t loss train 114.018 test 124.327\n",
      "acc: test 0.97 train 0.97 \t \t loss train 116.212 test 124.797\n",
      "acc: test 0.97 train 0.98 \t \t loss train 115.187 test 122.572\n",
      "acc: test 0.97 train 0.97 \t \t loss train 116.394 test 129.851\n",
      "acc: test 0.97 train 0.98 \t \t loss train 114.22 test 122.541\n",
      "acc: test 0.97 train 0.98 \t \t loss train 104.928 test 117.758\n",
      "acc: test 0.97 train 0.98 \t \t loss train 102.847 test 115.269\n",
      "acc: test 0.97 train 0.98 \t \t loss train 101.929 test 118.519\n",
      "acc: test 0.97 train 0.98 \t \t loss train 101.719 test 115.093\n",
      "acc: test 0.97 train 0.98 \t \t loss train 100.983 test 116.754\n",
      "acc: test 0.97 train 0.98 \t \t loss train 100.196 test 113.357\n",
      "acc: test 0.97 train 0.98 \t \t loss train 99.401 test 110.996\n",
      "acc: test 0.97 train 0.98 \t \t loss train 99.334 test 111.928\n",
      "acc: test 0.97 train 0.98 \t \t loss train 99.998 test 112.372\n",
      "acc: test 0.97 train 0.98 \t \t loss train 98.839 test 110.437\n",
      "acc: test 0.97 train 0.98 \t \t loss train 98.575 test 115.732\n",
      "acc: test 0.97 train 0.98 \t \t loss train 96.891 test 108.306\n",
      "acc: test 0.97 train 0.98 \t \t loss train 97.229 test 109.323\n",
      "acc: test 0.97 train 0.98 \t \t loss train 95.96 test 112.711\n",
      "acc: test 0.97 train 0.98 \t \t loss train 95.945 test 113.498\n",
      "acc: test 0.97 train 0.98 \t \t loss train 97.478 test 111.853\n",
      "acc: test 0.97 train 0.98 \t \t loss train 98.039 test 108.884\n",
      "acc: test 0.97 train 0.98 \t \t loss train 97.422 test 108.088\n",
      "acc: test 0.97 train 0.98 \t \t loss train 95.708 test 112.523\n",
      "acc: test 0.97 train 0.98 \t \t loss train 95.736 test 108.171\n",
      "acc: test 0.97 train 0.98 \t \t loss train 95.881 test 112.091\n",
      "acc: test 0.97 train 0.98 \t \t loss train 95.846 test 112.545\n",
      "acc: test 0.97 train 0.98 \t \t loss train 95.302 test 112.067\n",
      "acc: test 0.97 train 0.98 \t \t loss train 95.806 test 110.249\n",
      "acc: test 0.97 train 0.98 \t \t loss train 96.26 test 113.977\n",
      "acc: test 0.98 train 0.98 \t \t loss train 94.437 test 105.316\n",
      "acc: test 0.97 train 0.98 \t \t loss train 95.632 test 111.561\n",
      "acc: test 0.97 train 0.98 \t \t loss train 95.266 test 109.573\n",
      "acc: test 0.97 train 0.98 \t \t loss train 96.339 test 112.858\n",
      "acc: test 0.97 train 0.98 \t \t loss train 95.902 test 107.49\n",
      "acc: test 0.97 train 0.98 \t \t loss train 95.855 test 109.909\n",
      "acc: test 0.97 train 0.98 \t \t loss train 95.722 test 110.443\n",
      "acc: test 0.97 train 0.98 \t \t loss train 96.112 test 107.046\n",
      "acc: test 0.97 train 0.98 \t \t loss train 94.62 test 108.959\n",
      "acc: test 0.97 train 0.98 \t \t loss train 95.148 test 112.17\n",
      "acc: test 0.97 train 0.98 \t \t loss train 95.422 test 110.335\n",
      "acc: test 0.97 train 0.98 \t \t loss train 94.883 test 109.02\n",
      "acc: test 0.97 train 0.98 \t \t loss train 96.388 test 107.306\n",
      "acc: test 0.97 train 0.98 \t \t loss train 95.735 test 109.71\n",
      "acc: test 0.97 train 0.98 \t \t loss train 95.113 test 110.289\n",
      "acc: test 0.97 train 0.98 \t \t loss train 95.38 test 111.876\n",
      "acc: test 0.97 train 0.98 \t \t loss train 94.752 test 107.785\n",
      "acc: test 0.97 train 0.98 \t \t loss train 94.858 test 110.205\n",
      "acc: test 0.97 train 0.98 \t \t loss train 95.335 test 106.199\n",
      "acc: test 0.97 train 0.98 \t \t loss train 94.954 test 109.46\n",
      "acc: test 0.97 train 0.98 \t \t loss train 95.221 test 112.752\n",
      "acc: test 0.97 train 0.98 \t \t loss train 95.924 test 108.493\n",
      "acc: test 0.97 train 0.98 \t \t loss train 95.728 test 107.987\n",
      "acc: test 0.97 train 0.98 \t \t loss train 94.175 test 111.357\n",
      "acc: test 0.97 train 0.98 \t \t loss train 96.075 test 108.568\n"
     ]
    }
   ],
   "source": [
    "kl_weight = 0.02\n",
    "epochs = 100\n",
    "\n",
    "for epoch in range(1, epochs + 1):\n",
    "    model.train()\n",
    "    train_loss, train_acc = 0, 0 \n",
    "    kl_weight = min(kl_weight+0.02, 1)\n",
    "    for batch_idx, (data, target) in enumerate(train_loader):\n",
    "      # YOUR CODE HERE\n",
    "        data = data.cuda()\n",
    "        target = target.cuda()\n",
    "        data = data.view(-1, 28*28)\n",
    "        optimizer.zero_grad()\n",
    "        \n",
    "        output = model(data)\n",
    "        pred = output.data.max(1)[1] \n",
    "        loss = sgvlb(output, target, kl_weight)\n",
    "        loss.backward()\n",
    "        optimizer.step()\n",
    "      # END CODE\n",
    "      \n",
    "        train_loss += loss \n",
    "        train_acc += np.sum(pred.cpu().numpy() == target.cpu().data.numpy())\n",
    "    scheduler.step()\n",
    "    \n",
    "    tr_loss = np.round(train_loss.item() / len(train_loader.dataset),3)\n",
    "    tr_acc = np.round(train_acc.item() / len(train_loader.dataset), 2)\n",
    "    tt_loss, tt_acc =  make_validation()\n",
    "    print(f\"acc: test {tt_acc} train {tr_acc} \\t \\t loss train {tr_loss} test {tt_loss}\")"
   ]
  },
  {
   "cell_type": "markdown",
   "metadata": {
    "id": "bZ_s78QjuOhW"
   },
   "source": [
    "## Task 4.\n",
    "\n",
    "Calculate the proportion of parameters, which were not zeroed out. "
   ]
  },
  {
   "cell_type": "code",
   "execution_count": null,
   "metadata": {
    "colab": {
     "base_uri": "https://localhost:8080/",
     "height": 35
    },
    "executionInfo": {
     "elapsed": 593,
     "status": "ok",
     "timestamp": 1601029312088,
     "user": {
      "displayName": "Anna Kuzina",
      "photoUrl": "https://lh3.googleusercontent.com/a-/AOh14GhLgoQ1grdPUWMCC6JZEKv131xWN66G-TE8ncNDZN8=s64",
      "userId": "14976976853760262600"
     },
     "user_tz": -120
    },
    "id": "DKeyUi71rUKo",
    "outputId": "14c56754-5ab0-415a-dd86-549a8c2668d7"
   },
   "outputs": [
    {
     "name": "stdout",
     "output_type": "stream",
     "text": [
      "keept weight ratio = 0.07416228399699475\n"
     ]
    }
   ],
   "source": [
    "# YOUR CODE HERE\n",
    "all_w, kep_w = 0., 0.\n",
    "for c in model.children():\n",
    "    log_alpha, mask = c.log_alpha()\n",
    "    mask = mask.data.cpu().numpy()\n",
    "    kep_w += mask.sum()\n",
    "    all_w += mask.size\n",
    "print('keept weight ratio =', kep_w/all_w)\n",
    "# END CODE"
   ]
  },
  {
   "cell_type": "code",
   "execution_count": null,
   "metadata": {
    "colab": {
     "base_uri": "https://localhost:8080/",
     "height": 417
    },
    "executionInfo": {
     "elapsed": 1570,
     "status": "ok",
     "timestamp": 1601029314530,
     "user": {
      "displayName": "Anna Kuzina",
      "photoUrl": "https://lh3.googleusercontent.com/a-/AOh14GhLgoQ1grdPUWMCC6JZEKv131xWN66G-TE8ncNDZN8=s64",
      "userId": "14976976853760262600"
     },
     "user_tz": -120
    },
    "id": "h9n_UIjerUKq",
    "outputId": "d9ad4df1-e09f-4ad8-8573-c0351bf2cc55"
   },
   "outputs": [
    {
     "data": {
      "image/png": "[encoded data removed]",
      "text/plain": [
       "<Figure size 2160x720 with 2 Axes>"
      ]
     },
     "metadata": {
      "needs_background": "light",
      "tags": []
     },
     "output_type": "display_data"
    }
   ],
   "source": [
    "import matplotlib as mpl\n",
    "import matplotlib.pyplot as plt\n",
    "%matplotlib inline\n",
    "\n",
    "plt.figure(figsize=(30,10))\n",
    "\n",
    "log_alpha, mask  = model.fc1.log_alpha()\n",
    "mask = mask.cpu().detach().numpy();\n",
    "W = model.fc1.W.cpu().detach().numpy();\n",
    "\n",
    "max_val = np.max(np.abs(mask * W))\n",
    "norm = mpl.colors.Normalize(vmin=-max_val,vmax=max_val)\n",
    "\n",
    "plt.imshow(mask * W, cmap='RdBu', interpolation=None, norm=norm);\n",
    "plt.colorbar();"
   ]
  }
 ],
 "metadata": {
  "accelerator": "GPU",
  "colab": {
   "collapsed_sections": [],
   "name": "sem12_var_ard_dropout_FULL.ipynb",
   "provenance": []
  },
  "kernelspec": {
   "display_name": "Python 3",
   "language": "python",
   "name": "python3"
  },
  "language_info": {
   "codemirror_mode": {
    "name": "ipython",
    "version": 3
   },
   "file_extension": ".py",
   "mimetype": "text/x-python",
   "name": "python",
   "nbconvert_exporter": "python",
   "pygments_lexer": "ipython3",
   "version": "3.6.10"
  },
  "widgets": {
   "application/vnd.jupyter.widget-state+json": {
    "0f569fabb0564643aa9c48d68be1ae9a": {
     "model_module": "@jupyter-widgets/controls",
     "model_name": "DescriptionStyleModel",
     "state": {
      "_model_module": "@jupyter-widgets/controls",
      "_model_module_version": "1.5.0",
      "_model_name": "DescriptionStyleModel",
      "_view_count": null,
      "_view_module": "@jupyter-widgets/base",
      "_view_module_version": "1.2.0",
      "_view_name": "StyleView",
      "description_width": ""
     }
    },
    "0fa42bb4c2b345ca94cc949a4ba42481": {
     "model_module": "@jupyter-widgets/controls",
     "model_name": "ProgressStyleModel",
     "state": {
      "_model_module": "@jupyter-widgets/controls",
      "_model_module_version": "1.5.0",
      "_model_name": "ProgressStyleModel",
      "_view_count": null,
      "_view_module": "@jupyter-widgets/base",
      "_view_module_version": "1.2.0",
      "_view_name": "StyleView",
      "bar_color": null,
      "description_width": "initial"
     }
    },
    "1ec0bbf4a73841d09e79aabbe2bc7f39": {
     "model_module": "@jupyter-widgets/controls",
     "model_name": "HBoxModel",
     "state": {
      "_dom_classes": [],
      "_model_module": "@jupyter-widgets/controls",
      "_model_module_version": "1.5.0",
      "_model_name": "HBoxModel",
      "_view_count": null,
      "_view_module": "@jupyter-widgets/controls",
      "_view_module_version": "1.5.0",
      "_view_name": "HBoxView",
      "box_style": "",
      "children": [
       "IPY_MODEL_c0d5c46ce76e45ecb68b86b8ba8bb65c",
       "IPY_MODEL_7c54e500c9b44ee5a757ad1f855f58bf"
      ],
      "layout": "IPY_MODEL_eb2613a60cca45619487e75a747cd3c2"
     }
    },
    "270967fa5014443c8f545b19a3a81b89": {
     "model_module": "@jupyter-widgets/controls",
     "model_name": "HTMLModel",
     "state": {
      "_dom_classes": [],
      "_model_module": "@jupyter-widgets/controls",
      "_model_module_version": "1.5.0",
      "_model_name": "HTMLModel",
      "_view_count": null,
      "_view_module": "@jupyter-widgets/controls",
      "_view_module_version": "1.5.0",
      "_view_name": "HTMLView",
      "description": "",
      "description_tooltip": null,
      "layout": "IPY_MODEL_879cd22bfc7d4eddb909d319a06e08ca",
      "placeholder": "​",
      "style": "IPY_MODEL_0f569fabb0564643aa9c48d68be1ae9a",
      "value": " 32768/? [00:00&lt;00:00, 33178.22it/s]"
     }
    },
    "2782004a134e45d08c9445ba90af515d": {
     "model_module": "@jupyter-widgets/base",
     "model_name": "LayoutModel",
     "state": {
      "_model_module": "@jupyter-widgets/base",
      "_model_module_version": "1.2.0",
      "_model_name": "LayoutModel",
      "_view_count": null,
      "_view_module": "@jupyter-widgets/base",
      "_view_module_version": "1.2.0",
      "_view_name": "LayoutView",
      "align_content": null,
      "align_items": null,
      "align_self": null,
      "border": null,
      "bottom": null,
      "display": null,
      "flex": null,
      "flex_flow": null,
      "grid_area": null,
      "grid_auto_columns": null,
      "grid_auto_flow": null,
      "grid_auto_rows": null,
      "grid_column": null,
      "grid_gap": null,
      "grid_row": null,
      "grid_template_areas": null,
      "grid_template_columns": null,
      "grid_template_rows": null,
      "height": null,
      "justify_content": null,
      "justify_items": null,
      "left": null,
      "margin": null,
      "max_height": null,
      "max_width": null,
      "min_height": null,
      "min_width": null,
      "object_fit": null,
      "object_position": null,
      "order": null,
      "overflow": null,
      "overflow_x": null,
      "overflow_y": null,
      "padding": null,
      "right": null,
      "top": null,
      "visibility": null,
      "width": null
     }
    },
    "298aa930c6234eae8c78ba54919b130a": {
     "model_module": "@jupyter-widgets/base",
     "model_name": "LayoutModel",
     "state": {
      "_model_module": "@jupyter-widgets/base",
      "_model_module_version": "1.2.0",
      "_model_name": "LayoutModel",
      "_view_count": null,
      "_view_module": "@jupyter-widgets/base",
      "_view_module_version": "1.2.0",
      "_view_name": "LayoutView",
      "align_content": null,
      "align_items": null,
      "align_self": null,
      "border": null,
      "bottom": null,
      "display": null,
      "flex": null,
      "flex_flow": null,
      "grid_area": null,
      "grid_auto_columns": null,
      "grid_auto_flow": null,
      "grid_auto_rows": null,
      "grid_column": null,
      "grid_gap": null,
      "grid_row": null,
      "grid_template_areas": null,
      "grid_template_columns": null,
      "grid_template_rows": null,
      "height": null,
      "justify_content": null,
      "justify_items": null,
      "left": null,
      "margin": null,
      "max_height": null,
      "max_width": null,
      "min_height": null,
      "min_width": null,
      "object_fit": null,
      "object_position": null,
      "order": null,
      "overflow": null,
      "overflow_x": null,
      "overflow_y": null,
      "padding": null,
      "right": null,
      "top": null,
      "visibility": null,
      "width": null
     }
    },
    "2cf840f4b0d44d74a1a80776e666cc8a": {
     "model_module": "@jupyter-widgets/controls",
     "model_name": "HBoxModel",
     "state": {
      "_dom_classes": [],
      "_model_module": "@jupyter-widgets/controls",
      "_model_module_version": "1.5.0",
      "_model_name": "HBoxModel",
      "_view_count": null,
      "_view_module": "@jupyter-widgets/controls",
      "_view_module_version": "1.5.0",
      "_view_name": "HBoxView",
      "box_style": "",
      "children": [
       "IPY_MODEL_a76140c5b67c4315b37efb6eed0265b3",
       "IPY_MODEL_3dec84b023bf4285bc33762f866f6c83"
      ],
      "layout": "IPY_MODEL_298aa930c6234eae8c78ba54919b130a"
     }
    },
    "37bb0ec7e241442d83babe28e52e636b": {
     "model_module": "@jupyter-widgets/controls",
     "model_name": "FloatProgressModel",
     "state": {
      "_dom_classes": [],
      "_model_module": "@jupyter-widgets/controls",
      "_model_module_version": "1.5.0",
      "_model_name": "FloatProgressModel",
      "_view_count": null,
      "_view_module": "@jupyter-widgets/controls",
      "_view_module_version": "1.5.0",
      "_view_name": "ProgressView",
      "bar_style": "success",
      "description": "",
      "description_tooltip": null,
      "layout": "IPY_MODEL_67de344d6a264ff59a0d15b9220bea4f",
      "max": 1,
      "min": 0,
      "orientation": "horizontal",
      "style": "IPY_MODEL_9fd159a7d479413ab44dddcbb90ec778",
      "value": 1
     }
    },
    "3dec84b023bf4285bc33762f866f6c83": {
     "model_module": "@jupyter-widgets/controls",
     "model_name": "HTMLModel",
     "state": {
      "_dom_classes": [],
      "_model_module": "@jupyter-widgets/controls",
      "_model_module_version": "1.5.0",
      "_model_name": "HTMLModel",
      "_view_count": null,
      "_view_module": "@jupyter-widgets/controls",
      "_view_module_version": "1.5.0",
      "_view_name": "HTMLView",
      "description": "",
      "description_tooltip": null,
      "layout": "IPY_MODEL_6efaf03e546d4bbdaca323a1070b352c",
      "placeholder": "​",
      "style": "IPY_MODEL_d3072b89e1044bb4b79ceb9b0949d2d2",
      "value": " 0/4542 [00:00&lt;?, ?it/s]"
     }
    },
    "45f9cb80f7ef4058a1750e050410600b": {
     "model_module": "@jupyter-widgets/base",
     "model_name": "LayoutModel",
     "state": {
      "_model_module": "@jupyter-widgets/base",
      "_model_module_version": "1.2.0",
      "_model_name": "LayoutModel",
      "_view_count": null,
      "_view_module": "@jupyter-widgets/base",
      "_view_module_version": "1.2.0",
      "_view_name": "LayoutView",
      "align_content": null,
      "align_items": null,
      "align_self": null,
      "border": null,
      "bottom": null,
      "display": null,
      "flex": null,
      "flex_flow": null,
      "grid_area": null,
      "grid_auto_columns": null,
      "grid_auto_flow": null,
      "grid_auto_rows": null,
      "grid_column": null,
      "grid_gap": null,
      "grid_row": null,
      "grid_template_areas": null,
      "grid_template_columns": null,
      "grid_template_rows": null,
      "height": null,
      "justify_content": null,
      "justify_items": null,
      "left": null,
      "margin": null,
      "max_height": null,
      "max_width": null,
      "min_height": null,
      "min_width": null,
      "object_fit": null,
      "object_position": null,
      "order": null,
      "overflow": null,
      "overflow_x": null,
      "overflow_y": null,
      "padding": null,
      "right": null,
      "top": null,
      "visibility": null,
      "width": null
     }
    },
    "540d88ab04dc4e049f707dc8a6b01832": {
     "model_module": "@jupyter-widgets/base",
     "model_name": "LayoutModel",
     "state": {
      "_model_module": "@jupyter-widgets/base",
      "_model_module_version": "1.2.0",
      "_model_name": "LayoutModel",
      "_view_count": null,
      "_view_module": "@jupyter-widgets/base",
      "_view_module_version": "1.2.0",
      "_view_name": "LayoutView",
      "align_content": null,
      "align_items": null,
      "align_self": null,
      "border": null,
      "bottom": null,
      "display": null,
      "flex": null,
      "flex_flow": null,
      "grid_area": null,
      "grid_auto_columns": null,
      "grid_auto_flow": null,
      "grid_auto_rows": null,
      "grid_column": null,
      "grid_gap": null,
      "grid_row": null,
      "grid_template_areas": null,
      "grid_template_columns": null,
      "grid_template_rows": null,
      "height": null,
      "justify_content": null,
      "justify_items": null,
      "left": null,
      "margin": null,
      "max_height": null,
      "max_width": null,
      "min_height": null,
      "min_width": null,
      "object_fit": null,
      "object_position": null,
      "order": null,
      "overflow": null,
      "overflow_x": null,
      "overflow_y": null,
      "padding": null,
      "right": null,
      "top": null,
      "visibility": null,
      "width": null
     }
    },
    "6515abc2fcbb4e49b9a0d187cd784d8f": {
     "model_module": "@jupyter-widgets/controls",
     "model_name": "ProgressStyleModel",
     "state": {
      "_model_module": "@jupyter-widgets/controls",
      "_model_module_version": "1.5.0",
      "_model_name": "ProgressStyleModel",
      "_view_count": null,
      "_view_module": "@jupyter-widgets/base",
      "_view_module_version": "1.2.0",
      "_view_name": "StyleView",
      "bar_color": null,
      "description_width": "initial"
     }
    },
    "67de344d6a264ff59a0d15b9220bea4f": {
     "model_module": "@jupyter-widgets/base",
     "model_name": "LayoutModel",
     "state": {
      "_model_module": "@jupyter-widgets/base",
      "_model_module_version": "1.2.0",
      "_model_name": "LayoutModel",
      "_view_count": null,
      "_view_module": "@jupyter-widgets/base",
      "_view_module_version": "1.2.0",
      "_view_name": "LayoutView",
      "align_content": null,
      "align_items": null,
      "align_self": null,
      "border": null,
      "bottom": null,
      "display": null,
      "flex": null,
      "flex_flow": null,
      "grid_area": null,
      "grid_auto_columns": null,
      "grid_auto_flow": null,
      "grid_auto_rows": null,
      "grid_column": null,
      "grid_gap": null,
      "grid_row": null,
      "grid_template_areas": null,
      "grid_template_columns": null,
      "grid_template_rows": null,
      "height": null,
      "justify_content": null,
      "justify_items": null,
      "left": null,
      "margin": null,
      "max_height": null,
      "max_width": null,
      "min_height": null,
      "min_width": null,
      "object_fit": null,
      "object_position": null,
      "order": null,
      "overflow": null,
      "overflow_x": null,
      "overflow_y": null,
      "padding": null,
      "right": null,
      "top": null,
      "visibility": null,
      "width": null
     }
    },
    "6efaf03e546d4bbdaca323a1070b352c": {
     "model_module": "@jupyter-widgets/base",
     "model_name": "LayoutModel",
     "state": {
      "_model_module": "@jupyter-widgets/base",
      "_model_module_version": "1.2.0",
      "_model_name": "LayoutModel",
      "_view_count": null,
      "_view_module": "@jupyter-widgets/base",
      "_view_module_version": "1.2.0",
      "_view_name": "LayoutView",
      "align_content": null,
      "align_items": null,
      "align_self": null,
      "border": null,
      "bottom": null,
      "display": null,
      "flex": null,
      "flex_flow": null,
      "grid_area": null,
      "grid_auto_columns": null,
      "grid_auto_flow": null,
      "grid_auto_rows": null,
      "grid_column": null,
      "grid_gap": null,
      "grid_row": null,
      "grid_template_areas": null,
      "grid_template_columns": null,
      "grid_template_rows": null,
      "height": null,
      "justify_content": null,
      "justify_items": null,
      "left": null,
      "margin": null,
      "max_height": null,
      "max_width": null,
      "min_height": null,
      "min_width": null,
      "object_fit": null,
      "object_position": null,
      "order": null,
      "overflow": null,
      "overflow_x": null,
      "overflow_y": null,
      "padding": null,
      "right": null,
      "top": null,
      "visibility": null,
      "width": null
     }
    },
    "7c54e500c9b44ee5a757ad1f855f58bf": {
     "model_module": "@jupyter-widgets/controls",
     "model_name": "HTMLModel",
     "state": {
      "_dom_classes": [],
      "_model_module": "@jupyter-widgets/controls",
      "_model_module_version": "1.5.0",
      "_model_name": "HTMLModel",
      "_view_count": null,
      "_view_module": "@jupyter-widgets/controls",
      "_view_module_version": "1.5.0",
      "_view_name": "HTMLView",
      "description": "",
      "description_tooltip": null,
      "layout": "IPY_MODEL_45f9cb80f7ef4058a1750e050410600b",
      "placeholder": "​",
      "style": "IPY_MODEL_c3141329bf5c451a9d5721f50b8f9d8e",
      "value": " 9920512/? [00:20&lt;00:00, 1475880.18it/s]"
     }
    },
    "8722c649a91542b88480fc8c1eff0240": {
     "model_module": "@jupyter-widgets/base",
     "model_name": "LayoutModel",
     "state": {
      "_model_module": "@jupyter-widgets/base",
      "_model_module_version": "1.2.0",
      "_model_name": "LayoutModel",
      "_view_count": null,
      "_view_module": "@jupyter-widgets/base",
      "_view_module_version": "1.2.0",
      "_view_name": "LayoutView",
      "align_content": null,
      "align_items": null,
      "align_self": null,
      "border": null,
      "bottom": null,
      "display": null,
      "flex": null,
      "flex_flow": null,
      "grid_area": null,
      "grid_auto_columns": null,
      "grid_auto_flow": null,
      "grid_auto_rows": null,
      "grid_column": null,
      "grid_gap": null,
      "grid_row": null,
      "grid_template_areas": null,
      "grid_template_columns": null,
      "grid_template_rows": null,
      "height": null,
      "justify_content": null,
      "justify_items": null,
      "left": null,
      "margin": null,
      "max_height": null,
      "max_width": null,
      "min_height": null,
      "min_width": null,
      "object_fit": null,
      "object_position": null,
      "order": null,
      "overflow": null,
      "overflow_x": null,
      "overflow_y": null,
      "padding": null,
      "right": null,
      "top": null,
      "visibility": null,
      "width": null
     }
    },
    "879cd22bfc7d4eddb909d319a06e08ca": {
     "model_module": "@jupyter-widgets/base",
     "model_name": "LayoutModel",
     "state": {
      "_model_module": "@jupyter-widgets/base",
      "_model_module_version": "1.2.0",
      "_model_name": "LayoutModel",
      "_view_count": null,
      "_view_module": "@jupyter-widgets/base",
      "_view_module_version": "1.2.0",
      "_view_name": "LayoutView",
      "align_content": null,
      "align_items": null,
      "align_self": null,
      "border": null,
      "bottom": null,
      "display": null,
      "flex": null,
      "flex_flow": null,
      "grid_area": null,
      "grid_auto_columns": null,
      "grid_auto_flow": null,
      "grid_auto_rows": null,
      "grid_column": null,
      "grid_gap": null,
      "grid_row": null,
      "grid_template_areas": null,
      "grid_template_columns": null,
      "grid_template_rows": null,
      "height": null,
      "justify_content": null,
      "justify_items": null,
      "left": null,
      "margin": null,
      "max_height": null,
      "max_width": null,
      "min_height": null,
      "min_width": null,
      "object_fit": null,
      "object_position": null,
      "order": null,
      "overflow": null,
      "overflow_x": null,
      "overflow_y": null,
      "padding": null,
      "right": null,
      "top": null,
      "visibility": null,
      "width": null
     }
    },
    "9fd159a7d479413ab44dddcbb90ec778": {
     "model_module": "@jupyter-widgets/controls",
     "model_name": "ProgressStyleModel",
     "state": {
      "_model_module": "@jupyter-widgets/controls",
      "_model_module_version": "1.5.0",
      "_model_name": "ProgressStyleModel",
      "_view_count": null,
      "_view_module": "@jupyter-widgets/base",
      "_view_module_version": "1.2.0",
      "_view_name": "StyleView",
      "bar_color": null,
      "description_width": "initial"
     }
    },
    "a434be86af5a4a97ac27ba315732f8fe": {
     "model_module": "@jupyter-widgets/controls",
     "model_name": "HBoxModel",
     "state": {
      "_dom_classes": [],
      "_model_module": "@jupyter-widgets/controls",
      "_model_module_version": "1.5.0",
      "_model_name": "HBoxModel",
      "_view_count": null,
      "_view_module": "@jupyter-widgets/controls",
      "_view_module_version": "1.5.0",
      "_view_name": "HBoxView",
      "box_style": "",
      "children": [
       "IPY_MODEL_bef5c0d5252849569f25e9cb57516ccc",
       "IPY_MODEL_270967fa5014443c8f545b19a3a81b89"
      ],
      "layout": "IPY_MODEL_540d88ab04dc4e049f707dc8a6b01832"
     }
    },
    "a76140c5b67c4315b37efb6eed0265b3": {
     "model_module": "@jupyter-widgets/controls",
     "model_name": "FloatProgressModel",
     "state": {
      "_dom_classes": [],
      "_model_module": "@jupyter-widgets/controls",
      "_model_module_version": "1.5.0",
      "_model_name": "FloatProgressModel",
      "_view_count": null,
      "_view_module": "@jupyter-widgets/controls",
      "_view_module_version": "1.5.0",
      "_view_name": "ProgressView",
      "bar_style": "info",
      "description": "  0%",
      "description_tooltip": null,
      "layout": "IPY_MODEL_df830a9f54af4f18b47d71335b389f9c",
      "max": 1,
      "min": 0,
      "orientation": "horizontal",
      "style": "IPY_MODEL_6515abc2fcbb4e49b9a0d187cd784d8f",
      "value": 0
     }
    },
    "aa7c31589e7f476fb0b464e433b8d55f": {
     "model_module": "@jupyter-widgets/controls",
     "model_name": "DescriptionStyleModel",
     "state": {
      "_model_module": "@jupyter-widgets/controls",
      "_model_module_version": "1.5.0",
      "_model_name": "DescriptionStyleModel",
      "_view_count": null,
      "_view_module": "@jupyter-widgets/base",
      "_view_module_version": "1.2.0",
      "_view_name": "StyleView",
      "description_width": ""
     }
    },
    "ad842e7314a445e19f761a0f451570b2": {
     "model_module": "@jupyter-widgets/controls",
     "model_name": "ProgressStyleModel",
     "state": {
      "_model_module": "@jupyter-widgets/controls",
      "_model_module_version": "1.5.0",
      "_model_name": "ProgressStyleModel",
      "_view_count": null,
      "_view_module": "@jupyter-widgets/base",
      "_view_module_version": "1.2.0",
      "_view_name": "StyleView",
      "bar_color": null,
      "description_width": "initial"
     }
    },
    "bef5c0d5252849569f25e9cb57516ccc": {
     "model_module": "@jupyter-widgets/controls",
     "model_name": "FloatProgressModel",
     "state": {
      "_dom_classes": [],
      "_model_module": "@jupyter-widgets/controls",
      "_model_module_version": "1.5.0",
      "_model_name": "FloatProgressModel",
      "_view_count": null,
      "_view_module": "@jupyter-widgets/controls",
      "_view_module_version": "1.5.0",
      "_view_name": "ProgressView",
      "bar_style": "success",
      "description": "",
      "description_tooltip": null,
      "layout": "IPY_MODEL_cc9ecf0134ae4eca9f93255e8a4a4c4e",
      "max": 1,
      "min": 0,
      "orientation": "horizontal",
      "style": "IPY_MODEL_ad842e7314a445e19f761a0f451570b2",
      "value": 1
     }
    },
    "c0d5c46ce76e45ecb68b86b8ba8bb65c": {
     "model_module": "@jupyter-widgets/controls",
     "model_name": "FloatProgressModel",
     "state": {
      "_dom_classes": [],
      "_model_module": "@jupyter-widgets/controls",
      "_model_module_version": "1.5.0",
      "_model_name": "FloatProgressModel",
      "_view_count": null,
      "_view_module": "@jupyter-widgets/controls",
      "_view_module_version": "1.5.0",
      "_view_name": "ProgressView",
      "bar_style": "info",
      "description": "",
      "description_tooltip": null,
      "layout": "IPY_MODEL_2782004a134e45d08c9445ba90af515d",
      "max": 1,
      "min": 0,
      "orientation": "horizontal",
      "style": "IPY_MODEL_0fa42bb4c2b345ca94cc949a4ba42481",
      "value": 1
     }
    },
    "c3141329bf5c451a9d5721f50b8f9d8e": {
     "model_module": "@jupyter-widgets/controls",
     "model_name": "DescriptionStyleModel",
     "state": {
      "_model_module": "@jupyter-widgets/controls",
      "_model_module_version": "1.5.0",
      "_model_name": "DescriptionStyleModel",
      "_view_count": null,
      "_view_module": "@jupyter-widgets/base",
      "_view_module_version": "1.2.0",
      "_view_name": "StyleView",
      "description_width": ""
     }
    },
    "cc9ecf0134ae4eca9f93255e8a4a4c4e": {
     "model_module": "@jupyter-widgets/base",
     "model_name": "LayoutModel",
     "state": {
      "_model_module": "@jupyter-widgets/base",
      "_model_module_version": "1.2.0",
      "_model_name": "LayoutModel",
      "_view_count": null,
      "_view_module": "@jupyter-widgets/base",
      "_view_module_version": "1.2.0",
      "_view_name": "LayoutView",
      "align_content": null,
      "align_items": null,
      "align_self": null,
      "border": null,
      "bottom": null,
      "display": null,
      "flex": null,
      "flex_flow": null,
      "grid_area": null,
      "grid_auto_columns": null,
      "grid_auto_flow": null,
      "grid_auto_rows": null,
      "grid_column": null,
      "grid_gap": null,
      "grid_row": null,
      "grid_template_areas": null,
      "grid_template_columns": null,
      "grid_template_rows": null,
      "height": null,
      "justify_content": null,
      "justify_items": null,
      "left": null,
      "margin": null,
      "max_height": null,
      "max_width": null,
      "min_height": null,
      "min_width": null,
      "object_fit": null,
      "object_position": null,
      "order": null,
      "overflow": null,
      "overflow_x": null,
      "overflow_y": null,
      "padding": null,
      "right": null,
      "top": null,
      "visibility": null,
      "width": null
     }
    },
    "d3072b89e1044bb4b79ceb9b0949d2d2": {
     "model_module": "@jupyter-widgets/controls",
     "model_name": "DescriptionStyleModel",
     "state": {
      "_model_module": "@jupyter-widgets/controls",
      "_model_module_version": "1.5.0",
      "_model_name": "DescriptionStyleModel",
      "_view_count": null,
      "_view_module": "@jupyter-widgets/base",
      "_view_module_version": "1.2.0",
      "_view_name": "StyleView",
      "description_width": ""
     }
    },
    "db25084d7e3a48fcb85504662b441ab8": {
     "model_module": "@jupyter-widgets/controls",
     "model_name": "HBoxModel",
     "state": {
      "_dom_classes": [],
      "_model_module": "@jupyter-widgets/controls",
      "_model_module_version": "1.5.0",
      "_model_name": "HBoxModel",
      "_view_count": null,
      "_view_module": "@jupyter-widgets/controls",
      "_view_module_version": "1.5.0",
      "_view_name": "HBoxView",
      "box_style": "",
      "children": [
       "IPY_MODEL_37bb0ec7e241442d83babe28e52e636b",
       "IPY_MODEL_e7548fdb380e4ee18ac2fbcc9ac615db"
      ],
      "layout": "IPY_MODEL_8722c649a91542b88480fc8c1eff0240"
     }
    },
    "df830a9f54af4f18b47d71335b389f9c": {
     "model_module": "@jupyter-widgets/base",
     "model_name": "LayoutModel",
     "state": {
      "_model_module": "@jupyter-widgets/base",
      "_model_module_version": "1.2.0",
      "_model_name": "LayoutModel",
      "_view_count": null,
      "_view_module": "@jupyter-widgets/base",
      "_view_module_version": "1.2.0",
      "_view_name": "LayoutView",
      "align_content": null,
      "align_items": null,
      "align_self": null,
      "border": null,
      "bottom": null,
      "display": null,
      "flex": null,
      "flex_flow": null,
      "grid_area": null,
      "grid_auto_columns": null,
      "grid_auto_flow": null,
      "grid_auto_rows": null,
      "grid_column": null,
      "grid_gap": null,
      "grid_row": null,
      "grid_template_areas": null,
      "grid_template_columns": null,
      "grid_template_rows": null,
      "height": null,
      "justify_content": null,
      "justify_items": null,
      "left": null,
      "margin": null,
      "max_height": null,
      "max_width": null,
      "min_height": null,
      "min_width": null,
      "object_fit": null,
      "object_position": null,
      "order": null,
      "overflow": null,
      "overflow_x": null,
      "overflow_y": null,
      "padding": null,
      "right": null,
      "top": null,
      "visibility": null,
      "width": null
     }
    },
    "e7548fdb380e4ee18ac2fbcc9ac615db": {
     "model_module": "@jupyter-widgets/controls",
     "model_name": "HTMLModel",
     "state": {
      "_dom_classes": [],
      "_model_module": "@jupyter-widgets/controls",
      "_model_module_version": "1.5.0",
      "_model_name": "HTMLModel",
      "_view_count": null,
      "_view_module": "@jupyter-widgets/controls",
      "_view_module_version": "1.5.0",
      "_view_name": "HTMLView",
      "description": "",
      "description_tooltip": null,
      "layout": "IPY_MODEL_f27a7023fc3f4f918cefa566473f0bf1",
      "placeholder": "​",
      "style": "IPY_MODEL_aa7c31589e7f476fb0b464e433b8d55f",
      "value": " 1654784/? [00:00&lt;00:00, 2336393.18it/s]"
     }
    },
    "eb2613a60cca45619487e75a747cd3c2": {
     "model_module": "@jupyter-widgets/base",
     "model_name": "LayoutModel",
     "state": {
      "_model_module": "@jupyter-widgets/base",
      "_model_module_version": "1.2.0",
      "_model_name": "LayoutModel",
      "_view_count": null,
      "_view_module": "@jupyter-widgets/base",
      "_view_module_version": "1.2.0",
      "_view_name": "LayoutView",
      "align_content": null,
      "align_items": null,
      "align_self": null,
      "border": null,
      "bottom": null,
      "display": null,
      "flex": null,
      "flex_flow": null,
      "grid_area": null,
      "grid_auto_columns": null,
      "grid_auto_flow": null,
      "grid_auto_rows": null,
      "grid_column": null,
      "grid_gap": null,
      "grid_row": null,
      "grid_template_areas": null,
      "grid_template_columns": null,
      "grid_template_rows": null,
      "height": null,
      "justify_content": null,
      "justify_items": null,
      "left": null,
      "margin": null,
      "max_height": null,
      "max_width": null,
      "min_height": null,
      "min_width": null,
      "object_fit": null,
      "object_position": null,
      "order": null,
      "overflow": null,
      "overflow_x": null,
      "overflow_y": null,
      "padding": null,
      "right": null,
      "top": null,
      "visibility": null,
      "width": null
     }
    },
    "f27a7023fc3f4f918cefa566473f0bf1": {
     "model_module": "@jupyter-widgets/base",
     "model_name": "LayoutModel",
     "state": {
      "_model_module": "@jupyter-widgets/base",
      "_model_module_version": "1.2.0",
      "_model_name": "LayoutModel",
      "_view_count": null,
      "_view_module": "@jupyter-widgets/base",
      "_view_module_version": "1.2.0",
      "_view_name": "LayoutView",
      "align_content": null,
      "align_items": null,
      "align_self": null,
      "border": null,
      "bottom": null,
      "display": null,
      "flex": null,
      "flex_flow": null,
      "grid_area": null,
      "grid_auto_columns": null,
      "grid_auto_flow": null,
      "grid_auto_rows": null,
      "grid_column": null,
      "grid_gap": null,
      "grid_row": null,
      "grid_template_areas": null,
      "grid_template_columns": null,
      "grid_template_rows": null,
      "height": null,
      "justify_content": null,
      "justify_items": null,
      "left": null,
      "margin": null,
      "max_height": null,
      "max_width": null,
      "min_height": null,
      "min_width": null,
      "object_fit": null,
      "object_position": null,
      "order": null,
      "overflow": null,
      "overflow_x": null,
      "overflow_y": null,
      "padding": null,
      "right": null,
      "top": null,
      "visibility": null,
      "width": null
     }
    }
   }
  }
 },
 "nbformat": 4,
 "nbformat_minor": 1
}
