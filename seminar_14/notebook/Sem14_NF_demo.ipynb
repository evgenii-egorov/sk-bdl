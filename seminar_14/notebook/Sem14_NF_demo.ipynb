{
  "nbformat": 4,
  "nbformat_minor": 0,
  "metadata": {
    "accelerator": "GPU",
    "colab": {
      "name": "Sem14_NF_demo.ipynb",
      "provenance": [],
      "collapsed_sections": []
    },
    "kernelspec": {
      "display_name": "Python 3",
      "language": "python",
      "name": "python3"
    },
    "language_info": {
      "codemirror_mode": {
        "name": "ipython",
        "version": 3
      },
      "file_extension": ".py",
      "mimetype": "text/x-python",
      "name": "python",
      "nbconvert_exporter": "python",
      "pygments_lexer": "ipython3",
      "version": "3.6.9"
    }
  },
  "cells": [
    {
      "cell_type": "code",
      "metadata": {
        "id": "H4FEJC9VfEYt"
      },
      "source": [
        "import numpy as np\n",
        "import matplotlib.pylab as plt\n",
        "\n",
        "import torch\n",
        "import torch.nn as nn\n",
        "\n",
        "import torchvision"
      ],
      "execution_count": null,
      "outputs": []
    },
    {
      "cell_type": "markdown",
      "metadata": {
        "id": "lYbAi1uanEk4"
      },
      "source": [
        "## Tutorial on Normalizing Flows\n",
        "\n",
        "We now implement RealNVP model on a toy dataset."
      ]
    },
    {
      "cell_type": "code",
      "metadata": {
        "id": "K_-98MtB3Ssb"
      },
      "source": [
        "train_dset = torchvision.datasets.MNIST('./', download=True, train=True)\n",
        "test_dset = torchvision.datasets.MNIST('./', download=True, train=False)\n",
        "\n",
        "#reshape\n",
        "X_train =  torch.nn.functional.max_pool2d(train_dset.data.float(), 2).numpy().reshape(-1, 14*14)/255.\n",
        "X_test =  torch.nn.functional.max_pool2d(test_dset.data.float(), 2).numpy().reshape(-1, 14*14)/255.\n",
        "\n",
        "\n",
        "\n",
        "train_dset = torch.utils.data.TensorDataset(torch.from_numpy(X_train)*2. - 1.)\n",
        "test_dset = torch.utils.data.TensorDataset(torch.from_numpy(X_test)*2-1.)\n",
        "\n",
        "train_loader = torch.utils.data.DataLoader(train_dset, 512, shuffle=True)\n",
        "test_loader = torch.utils.data.DataLoader(test_dset, 512, shuffle=True)"
      ],
      "execution_count": null,
      "outputs": []
    },
    {
      "cell_type": "code",
      "metadata": {
        "id": "T6Z_Sryh3Ssc",
        "outputId": "08c4cfc2-c0d6-4a95-b8d8-25cd88729d8d"
      },
      "source": [
        "# take a look a the images\n",
        "fig, ax = plt.subplots(ncols=10, figsize=(15, 5))\n",
        "for i in range(10):\n",
        "    ax[i].imshow(train_dset[i][0].reshape(14, 14), cmap='gray')\n",
        "    ax[i].axis('off')"
      ],
      "execution_count": null,
      "outputs": [
        {
          "output_type": "display_data",
          "data": {
            "image/png": "[encoded data removed]",
            "text/plain": [
              "<Figure size 1080x360 with 10 Axes>"
            ]
          },
          "metadata": {
            "tags": [],
            "needs_background": "light"
          }
        }
      ]
    },
    {
      "cell_type": "markdown",
      "metadata": {
        "id": "sWda9Ewu3Ssd"
      },
      "source": [
        "## Task 1. Implement Affine Coupling Layer\n",
        "$$\n",
        "    z_{1:d} = x_{1:d},\\\\\n",
        "    z_{d+1:D} = x_{d+1:D}\\odot  \\exp(s(x_{1:d})) + t(x_{1:d}).\n",
        "$$\n",
        "\n",
        "Let us use **Checkerboard** (left one), to split the input:\n",
        "\n",
        "![](https://ai2-s2-public.s3.amazonaws.com/figures/2017-08-08/09879f7956dddc2a9328f5c1472feeb8402bcbcf/5-Figure3-1.png)\n",
        "\n"
      ]
    },
    {
      "cell_type": "code",
      "metadata": {
        "id": "gmLh4UHk3Ssd"
      },
      "source": [
        "class AffineCoupling1d(nn.Module):\n",
        "    def __init__(self, dim, hid_dim, mode=1.):\n",
        "        \"\"\"\n",
        "        dim (int) - dimnetion of the input data\n",
        "        mode - 0 or 1 (from which number the mask starts)\n",
        "        \"\"\"\n",
        "        super(AffineCoupling1d, self).__init__()\n",
        "        self.mask = torch.arange(mode, mode+dim).unsqueeze(0) % 2\n",
        "        self.s = nn.Sequential(\n",
        "                nn.utils.weight_norm(nn.Linear(dim, hid_dim)),\n",
        "                nn.LeakyReLU(),\n",
        "                nn.utils.weight_norm(nn.Linear(hid_dim, hid_dim)),\n",
        "                nn.LeakyReLU(),\n",
        "                nn.utils.weight_norm(nn.Linear(hid_dim, dim)),\n",
        "                nn.Tanh()\n",
        "        )\n",
        "        self.t = nn.Sequential(\n",
        "                nn.utils.weight_norm(nn.Linear(dim, hid_dim)),\n",
        "                nn.LeakyReLU(),\n",
        "                nn.utils.weight_norm(nn.Linear(hid_dim, hid_dim)),\n",
        "                nn.LeakyReLU(),\n",
        "                nn.utils.weight_norm(nn.Linear(hid_dim, dim))\n",
        "        )\n",
        "        \n",
        "    def forward(self, x):\n",
        "        \"\"\"\n",
        "        Make a forward pass and compute log determinant of the transformation\n",
        "        \"\"\"\n",
        "        # YOUR CODE HERE\n",
        "        self.mask = self.mask.to(x.device)\n",
        "        bx = self.mask * x\n",
        "        s_bx = self.s(bx)\n",
        "        t_bx = self.t(bx)\n",
        "        z = bx + (1 - self.mask)*(x * torch.exp(s_bx) + t_bx)\n",
        "        log_det = ((1 - self.mask)*s_bx).sum(1)\n",
        "        return z, log_det      \n",
        "        \n",
        "    def inverse(self, z):\n",
        "        \"\"\"\n",
        "        Covert noize to data via inverse transformation\n",
        "        \"\"\"\n",
        "        # YOUR CODE HERE\n",
        "        self.mask = self.mask.to(z.device)\n",
        "        bz = self.mask * z\n",
        "        s_bz = self.s(bz)\n",
        "        t_bz = self.t(bz)\n",
        "        x = bz + (1 - self.mask)*((z - t_bz)*torch.exp(-s_bz))\n",
        "        return x\n",
        "    "
      ],
      "execution_count": null,
      "outputs": []
    },
    {
      "cell_type": "code",
      "metadata": {
        "id": "hjpQuruT3Ssd"
      },
      "source": [
        "class Flow(nn.Module):\n",
        "    def __init__(self, layers, prior):\n",
        "        super(Flow, self).__init__()    \n",
        "        self.layers = nn.ModuleList(layers)\n",
        "        self.prior = prior\n",
        "    \n",
        "    def forward(self, x):\n",
        "        \"\"\"\n",
        "        Apply sequence of transformations and perform summation of log determinants\n",
        "        \"\"\"\n",
        "        # YOUR CODE HERE\n",
        "        log_det = 0.\n",
        "        z = x.clone()\n",
        "        for f in self.layers:\n",
        "            z, d = f(z)\n",
        "            log_det += d\n",
        "        return z, log_det\n",
        "    \n",
        "    def inverse(self, z):\n",
        "        \"\"\"\n",
        "        Apply sequence of transformations in the inverse order\n",
        "        \"\"\"\n",
        "        # YOUR CODE HERE\n",
        "        x = z.clone()\n",
        "        for f in reversed(self.layers):\n",
        "            x = f.inverse(x)\n",
        "        return x\n",
        "    \n",
        "    def log_p(self, x):\n",
        "        \"\"\"\n",
        "        Compute log probability of a given batch\n",
        "        \"\"\"\n",
        "        # YOUR CODE HERE\n",
        "        z, log_det = self(x)\n",
        "        log_px = self.prior.log_prob(z).sum(1) + log_det\n",
        "        return log_px\n",
        "    \n",
        "    def sample(self, N):\n",
        "        \"\"\"\n",
        "        Sample from Flow\n",
        "        \"\"\"\n",
        "        # YOUR CODE HERE\n",
        "        z = self.prior.sample_n(N)\n",
        "        x = self.inverse(z)\n",
        "        return x"
      ],
      "execution_count": null,
      "outputs": []
    },
    {
      "cell_type": "markdown",
      "metadata": {
        "id": "lndt7McN3Ssd"
      },
      "source": [
        "Initialize the Flow. You can vary number of coupling layers and hidden dimension"
      ]
    },
    {
      "cell_type": "code",
      "metadata": {
        "id": "HAAtvf0P3Ssd"
      },
      "source": [
        "x_dim = train_dset[i][0].shape[0]\n",
        "N_layers = 3\n",
        "hid_dim = 128\n",
        "DEVICE = 'cuda'\n",
        "\n",
        "prior = torch.distributions.Normal(torch.zeros(x_dim, device=DEVICE), torch.ones(x_dim, device = DEVICE))\n",
        "layers = [AffineCoupling1d(x_dim, hid_dim, i%2) for i in range(N_layers)]\n",
        "nf = Flow(layers, prior)"
      ],
      "execution_count": null,
      "outputs": []
    },
    {
      "cell_type": "markdown",
      "metadata": {
        "id": "z2QfOIoj3Ssd"
      },
      "source": [
        "Check that transformation if invertable: $x = f^{-1}(f(x))$"
      ]
    },
    {
      "cell_type": "code",
      "metadata": {
        "id": "VLCKYm_j3Ssd",
        "outputId": "ef5378c0-3158-441d-8fc6-2ceadd515bfe"
      },
      "source": [
        "test_input = train_dset[i][0].unsqueeze(0)\n",
        "test_output = nf.inverse(nf(test_input)[0])\n",
        "fig, ax = plt.subplots(ncols=2, figsize=(5,5))\n",
        "ax[0].imshow(test_input[0].cpu().reshape(14, 14), cmap='gray');\n",
        "ax[1].imshow(test_output[0].cpu().data.reshape(14, 14), cmap='gray');\n",
        "ax[0].axis('off')\n",
        "ax[1].axis('off');"
      ],
      "execution_count": null,
      "outputs": [
        {
          "output_type": "display_data",
          "data": {
            "image/png": "[encoded data removed]",
            "text/plain": [
              "<Figure size 360x360 with 2 Axes>"
            ]
          },
          "metadata": {
            "tags": [],
            "needs_background": "light"
          }
        }
      ]
    },
    {
      "cell_type": "markdown",
      "metadata": {
        "id": "O71HmtiC3Sse"
      },
      "source": [
        "Train the Flow"
      ]
    },
    {
      "cell_type": "code",
      "metadata": {
        "id": "qYF3gmul3Sse"
      },
      "source": [
        "from IPython.display import clear_output\n",
        "def train_nf(model, train_loader, max_epoch, device):\n",
        "    model = model.to(device)\n",
        "    loss_hist = []\n",
        "    optim = torch.optim.Adam(model.parameters(), lr=5e-5)\n",
        "    for e in range(max_epoch):\n",
        "        tot_loss = 0.\n",
        "        for X, in train_loader:\n",
        "            optim.zero_grad()\n",
        "            eps = torch.randn_like(X)*0.1\n",
        "            X = (X+eps).to(device) \n",
        "            log_p = model.log_p(X)\n",
        "            loss = -log_p.mean()\n",
        "            loss.backward()\n",
        "            optim.step()\n",
        "            tot_loss += loss.item()\n",
        "\n",
        "        loss_hist.append(tot_loss/len(train_loader))\n",
        "        if e%10 == 0:\n",
        "            fig, ax = plt.subplots(ncols=2, figsize=(8,4))\n",
        "            ax[0].plot(loss_hist)\n",
        "            Xs = model.sample(1).data.cpu()\n",
        "            Xs = torch.tanh(Xs)\n",
        "            ax[1].imshow(Xs[0].reshape(14, 14), cmap='gray')\n",
        "            ax[1].axis('off')\n",
        "            plt.pause(0.3);\n",
        "            clear_output(wait=True);"
      ],
      "execution_count": null,
      "outputs": []
    },
    {
      "cell_type": "code",
      "metadata": {
        "id": "tuXRSRwF3Sse"
      },
      "source": [
        ""
      ],
      "execution_count": null,
      "outputs": []
    },
    {
      "cell_type": "code",
      "metadata": {
        "id": "15tcmZJA3Sse",
        "outputId": "8c1e0479-920c-4225-d17d-ca378927d8cc"
      },
      "source": [
        "train_nf(nf, train_loader, 200, DEVICE)"
      ],
      "execution_count": null,
      "outputs": [
        {
          "output_type": "stream",
          "text": [
            "/home/annapriv/.local/lib/python3.6/site-packages/torch/distributions/distribution.py:134: UserWarning: sample_n will be deprecated. Use .sample((n,)) instead\n",
            "  warnings.warn('sample_n will be deprecated. Use .sample((n,)) instead', UserWarning)\n"
          ],
          "name": "stderr"
        },
        {
          "output_type": "display_data",
          "data": {
            "image/png": "[encoded data removed]",
            "text/plain": [
              "<Figure size 576x288 with 2 Axes>"
            ]
          },
          "metadata": {
            "tags": [],
            "needs_background": "light"
          }
        }
      ]
    },
    {
      "cell_type": "markdown",
      "metadata": {
        "id": "DMowKY2w3Sse"
      },
      "source": [
        "Plot samples"
      ]
    },
    {
      "cell_type": "code",
      "metadata": {
        "id": "0HJARfYT3Sse",
        "outputId": "d096376b-4caf-4629-a05d-9eaa9772663e"
      },
      "source": [
        "nf.eval()\n",
        "Xs = nf.sample(10).data.cpu()\n",
        "Xs = torch.nn.functional.tanh(Xs)\n",
        "fig, ax = plt.subplots(ncols=10, figsize=(20, 3))\n",
        "for i in range(10):\n",
        "    ax[i].imshow(Xs[i].reshape(14, 14), cmap='gray')\n",
        "    ax[i].axis('off')"
      ],
      "execution_count": null,
      "outputs": [
        {
          "output_type": "display_data",
          "data": {
            "image/png": "[encoded data removed]",
            "text/plain": [
              "<Figure size 1440x216 with 10 Axes>"
            ]
          },
          "metadata": {
            "tags": [],
            "needs_background": "light"
          }
        }
      ]
    },
    {
      "cell_type": "markdown",
      "metadata": {
        "id": "AcopCbGI3Ssf"
      },
      "source": [
        "Plot interpolations in the latent space"
      ]
    },
    {
      "cell_type": "code",
      "metadata": {
        "id": "tUEkYy_H3Ssf"
      },
      "source": [
        "\n",
        "def plot_interpolation(x1, x2):\n",
        "    fig, ax = plt.subplots(ncols=10, figsize=(15, 5))\n",
        "    z_1 = nf(x1.to(DEVICE))[0]\n",
        "    z_2 = nf(x2.to(DEVICE))[0]\n",
        "    alpha = torch.linspace(0., 1., 10).to(DEVICE).view(10, 1)      \n",
        "    interpolations_z = (z_1 * alpha + z_2 * (1 - alpha))\n",
        "    interpolations_x = nf.inverse(interpolations_z)\n",
        "    for i in range(10):\n",
        "        ax[i].imshow(interpolations_x[i].data.cpu().reshape(14, 14), cmap='gray')\n",
        "        ax[i].axis('off')"
      ],
      "execution_count": null,
      "outputs": []
    },
    {
      "cell_type": "code",
      "metadata": {
        "id": "CTZy1Xmb3Ssf",
        "outputId": "323bd568-a9e5-417e-99f3-0bc0c39f5154"
      },
      "source": [
        "for k in range(5):\n",
        "    plot_interpolation(test_dset[k*2][0], test_dset[k*2+1][0])"
      ],
      "execution_count": null,
      "outputs": [
        {
          "output_type": "display_data",
          "data": {
            "image/png": "[encoded data removed]",
            "text/plain": [
              "<Figure size 1080x360 with 10 Axes>"
            ]
          },
          "metadata": {
            "tags": [],
            "needs_background": "light"
          }
        },
        {
          "output_type": "display_data",
          "data": {
            "image/png": "[encoded data removed]",
            "text/plain": [
              "<Figure size 1080x360 with 10 Axes>"
            ]
          },
          "metadata": {
            "tags": [],
            "needs_background": "light"
          }
        },
        {
          "output_type": "display_data",
          "data": {
            "image/png": "[encoded data removed]",
            "text/plain": [
              "<Figure size 1080x360 with 10 Axes>"
            ]
          },
          "metadata": {
            "tags": [],
            "needs_background": "light"
          }
        },
        {
          "output_type": "display_data",
          "data": {
            "image/png": "[encoded data removed]",
            "text/plain": [
              "<Figure size 1080x360 with 10 Axes>"
            ]
          },
          "metadata": {
            "tags": [],
            "needs_background": "light"
          }
        },
        {
          "output_type": "display_data",
          "data": {
            "image/png": "[encoded data removed]",
            "text/plain": [
              "<Figure size 1080x360 with 10 Axes>"
            ]
          },
          "metadata": {
            "tags": [],
            "needs_background": "light"
          }
        }
      ]
    },
    {
      "cell_type": "code",
      "metadata": {
        "id": "HJKM8d3A3Ssf"
      },
      "source": [
        ""
      ],
      "execution_count": null,
      "outputs": []
    }
  ]
}